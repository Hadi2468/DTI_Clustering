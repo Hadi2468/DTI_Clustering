{
 "cells": [
  {
   "cell_type": "code",
   "execution_count": 6,
   "metadata": {},
   "outputs": [
    {
     "name": "stdout",
     "output_type": "stream",
     "text": [
      "nbconvert\t 6.0.7\n",
      "Numpy\t\t 1.18.5\n",
      "Pandas\t\t 1.1.4\n",
      "matplotlib\t 3.3.2\n",
      "H5py\t\t 2.10.0\n",
      "imageio\t\t 2.9.0\n",
      "Scikit-learn\t 0.23.2\n",
      "Scikit-image\t 0.17.2\n",
      "TensorFlow\t 2.3.1\n",
      "Keras\t\t 2.3.1\n",
      "NiBabel\t\t 3.2.0\n"
     ]
    }
   ],
   "source": [
    "import sys\n",
    "import os\n",
    "import fnmatch\n",
    "import random\n",
    "import datetime\n",
    "import math\n",
    "import nbconvert; print(\"nbconvert\\t\", nbconvert.__version__)\n",
    "import numpy as np; print(\"Numpy\\t\\t\", np.__version__)\n",
    "import pandas as pd; print(\"Pandas\\t\\t\", pd.__version__)\n",
    "import matplotlib as mpl; print(\"matplotlib\\t\", mpl.__version__)\n",
    "import matplotlib.pyplot as plt\n",
    "import h5py; print(\"H5py\\t\\t\", h5py.__version__)\n",
    "import imageio; print(\"imageio\\t\\t\", imageio.__version__)\n",
    "import sklearn; print(\"Scikit-learn\\t\", sklearn.__version__)\n",
    "import skimage; print(\"Scikit-image\\t\", skimage.__version__)\n",
    "\n",
    "import tensorflow as tf; print(\"TensorFlow\\t\", tf.__version__)\n",
    "import keras; print(\"Keras\\t\\t\", keras.__version__)\n",
    "import nibabel as nib; print(\"NiBabel\\t\\t\", nib.__version__)"
   ]
  }
 ],
 "metadata": {
  "kernelspec": {
   "display_name": "Python 3",
   "language": "python",
   "name": "python3"
  },
  "language_info": {
   "codemirror_mode": {
    "name": "ipython",
    "version": 3
   },
   "file_extension": ".py",
   "mimetype": "text/x-python",
   "name": "python",
   "nbconvert_exporter": "python",
   "pygments_lexer": "ipython3",
   "version": "3.6.11"
  }
 },
 "nbformat": 4,
 "nbformat_minor": 4
}
